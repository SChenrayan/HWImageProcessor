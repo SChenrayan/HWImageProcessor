{
 "cells": [
  {
   "cell_type": "code",
   "execution_count": 1,
   "metadata": {},
   "outputs": [
    {
     "data": {
      "application/javascript": [
       "\n",
       "try {\n",
       "require(['notebook/js/codecell'], function(codecell) {\n",
       "  codecell.CodeCell.options_default.highlight_modes[\n",
       "      'magic_text/x-csrc'] = {'reg':[/^%%microblaze/]};\n",
       "  Jupyter.notebook.events.one('kernel_ready.Kernel', function(){\n",
       "      Jupyter.notebook.get_cells().map(function(cell){\n",
       "          if (cell.cell_type == 'code'){ cell.auto_highlight(); } }) ;\n",
       "  });\n",
       "});\n",
       "} catch (e) {};\n"
      ]
     },
     "metadata": {},
     "output_type": "display_data"
    },
    {
     "data": {
      "application/javascript": [
       "\n",
       "try {\n",
       "require(['notebook/js/codecell'], function(codecell) {\n",
       "  codecell.CodeCell.options_default.highlight_modes[\n",
       "      'magic_text/x-csrc'] = {'reg':[/^%%pybind11/]};\n",
       "  Jupyter.notebook.events.one('kernel_ready.Kernel', function(){\n",
       "      Jupyter.notebook.get_cells().map(function(cell){\n",
       "          if (cell.cell_type == 'code'){ cell.auto_highlight(); } }) ;\n",
       "  });\n",
       "});\n",
       "} catch (e) {};\n"
      ]
     },
     "metadata": {},
     "output_type": "display_data"
    }
   ],
   "source": [
    "import cv2 as cv\n",
    "import numpy as np\n",
    "import sys\n",
    "import timeit\n",
    "import math\n",
    "from pynq import allocate\n",
    "from pynq import Overlay\n",
    "\n",
    "# scaleFactor offset = 0x20\n",
    "SCALE_FACTOR_OFF = 0x20\n",
    "# kernel offset = 0x10\n",
    "KERNEL_OFF = 0x10\n",
    "\n",
    "OVERLAY_PATH = \"conv2d_hw.bit\"\n",
    "OVERLAY = Overlay(OVERLAY_PATH)"
   ]
  },
  {
   "cell_type": "code",
   "execution_count": 14,
   "metadata": {},
   "outputs": [],
   "source": [
    "def in_bounds(k_mid, img, row_idx, pixel_idx):\n",
    "    img_max_rows = img.shape[0] - 1\n",
    "    img_max_cols = img.shape[1] - 1\n",
    "    row_in_bounds = (row_idx - k_mid) >= 0 and (row_idx + k_mid) < img_max_rows\n",
    "    col_in_bounds = (pixel_idx - k_mid) >= 0 and (pixel_idx + k_mid) < img_max_cols\n",
    "\n",
    "    return row_in_bounds and col_in_bounds\n",
    "\n",
    "def to_int32_arr(nums):\n",
    "    arr = np.ndarray(shape=(3), dtype=np.int32)\n",
    "    arr[0] = 0\n",
    "    arr[1] = 0\n",
    "    arr[2] = 0\n",
    "    \n",
    "    for index, item in enumerate(nums):\n",
    "        num = item & 0xff\n",
    "        arr[index // 4] |= num << (8 * (index % 4))\n",
    "    \n",
    "    return arr\n",
    "\n",
    "# segments an image or a channel of an image into 100 pixel\n",
    "# wide chunks\n",
    "def segment_image(img):\n",
    "    # image length\n",
    "    cols = len(img[0])            # image width\n",
    "\n",
    "    num_chunks = math.ceil(cols/100)\n",
    "\n",
    "    # split array into sub-arrays \n",
    "    split_indices =[]\n",
    "    for i in range(1, num_chunks):\n",
    "        split_indices.append(100 * i)\n",
    "    chunks = np.split(img, split_indices, 1)\n",
    "\n",
    "    return chunks\n",
    "\n",
    "def assemble_chunks(chunks):\n",
    "    all_chunks = np.concatenate(chunks, axis=1) \n",
    "    print(\"Overall chunk shape: \", all_chunks.shape)\n",
    "\n",
    "    return all_chunks\n",
    "\n",
    "def assemble_channels(b, g, r): \n",
    "    all_channels = np.stack((b, g, r), axis=2)\n",
    "    print(\"Image shape: \", all_channels.shape)\n",
    "\n",
    "    return all_channels\n",
    "\n",
    "def conv_dma(in_buf):\n",
    "    if OVERLAY is None: \n",
    "        return in_buf.copy()\n",
    "        \n",
    "    # break up in_buff to fit in dma\n",
    "    num_chunks = math.ceil(len(in_buf)/10000)\n",
    "\n",
    "    # split array into sub-arrays \n",
    "    split_indices =[]\n",
    "    for i in range(1, num_chunks):\n",
    "        split_indices.append(10000 * i)\n",
    "    buf_chunks = np.split(in_buf, split_indices, 0)\n",
    "    \n",
    "    # process each part of total buffer\n",
    "    processed = np.array([], dtype=np.uint8)\n",
    "    dma = OVERLAY.convDMA.axi_dma_0\n",
    "    for buf in buf_chunks:\n",
    "        out_buf = allocate(shape=buf.shape, dtype=np.uint8)\n",
    "        dma.sendchannel.transfer(buf)\n",
    "        dma.recvchannel.transfer(out_buf)\n",
    "        dma.sendchannel.wait()\n",
    "        dma.recvchannel.wait()\n",
    "        processed = np.append(processed, out_buf)\n",
    "    \n",
    "    return processed\n",
    "\n",
    "def stream_chunks(chunks): \n",
    "    new_chunks = []\n",
    "    i = 0\n",
    "    for chunk in chunks:\n",
    "        print(\"Working on chunk \", i)\n",
    "        i = i+1\n",
    "        flattened = chunk.flatten()\n",
    "        inbuf = allocate(shape=flattened.shape, dtype=np.uint8)\n",
    "        inbuf[:] = flattened\n",
    "        out_chunk = conv_dma(inbuf)\n",
    "        new_chunks.append(np.reshape(out_chunk, chunk.shape))\n",
    "\n",
    "    return new_chunks\n",
    "\n",
    "def write_axilite(kernel, scaleFactor):\n",
    "    np_kern = np.array(kernel, dtype=np.int8)\n",
    "    conv_ip = OVERLAY.convDMA.conv2d_0\n",
    "    arr = to_int32_arr(np_kern)\n",
    "    conv_ip.write(KERNEL_OFF, int(arr[0]))\n",
    "    conv_ip.write(KERNEL_OFF + 4, int(arr[1]))\n",
    "    conv_ip.write(KERNEL_OFF + 8, int(arr[2]))\n",
    "    \n",
    "    conv_ip.write(SCALE_FACTOR_OFF, scaleFactor)\n",
    "\n",
    "def hw_conv(img, kernel, scaleFactor): \n",
    "    b = img[:,:,0]\n",
    "    g = img[:,:,1]\n",
    "    r = img[:,:,2]\n",
    "\n",
    "    write_axilite(kernel, scaleFactor)\n",
    "    \n",
    "    channels = [b, g, r]\n",
    "    new_channels = []\n",
    "    for channel in channels: \n",
    "        chunks = segment_image(channel)\n",
    "        new_chunks = stream_chunks(chunks)\n",
    "        new_channels.append(assemble_chunks(new_chunks))\n",
    "\n",
    "    return assemble_channels(new_channels[0], new_channels[1], new_channels[2])\n",
    "\n",
    "def main(): \n",
    "    image_filename = \"food.png\"\n",
    "    out_image_filename = \"media/food_sobel.png\"\n",
    "    image = cv.imread(image_filename)\n",
    "    sharpen_kernel = [0,-1,0,-1,5,-1,0,-1,0]\n",
    "    sobel_filter = [-1, -2, -1, 0, 0, 0, 1, 2, 1]\n",
    "    gaussian_blur_kernel = [1,2,1,2,4,2,1,2,1]   #scale factor is 16\n",
    "    new_img = hw_conv(image, sobel_filter, 1)\n",
    "    cv.imwrite(filename=out_image_filename, img=new_img)"
   ]
  },
  {
   "cell_type": "code",
   "execution_count": 15,
   "metadata": {
    "scrolled": true
   },
   "outputs": [],
   "source": [
    "identity_kernel = [0,0,0,0,1,0,0,0,0]\n",
    "sharpen_kernel = [0,-1,0,-1,5,-1,0,-1,0]\n",
    "mean_blur_kernel = [1,1,1,1,1,1,1,1,1]       #scale factor is 9\n",
    "laplacian_kernel = [0,1,0,1,-4, 1, 0, 1, 0]\n",
    "gaussian_blur_kernel = [1,2,1,2,4,2,1,2,1]   #scale factor is 16\n",
    "sobel_filter = [-1, -2, -1, 0, 0, 0, 1, 2, 1]"
   ]
  },
  {
   "cell_type": "code",
   "execution_count": 16,
   "metadata": {},
   "outputs": [
    {
     "name": "stdout",
     "output_type": "stream",
     "text": [
      "Working on chunk  0\n",
      "Working on chunk  1\n",
      "Working on chunk  2\n",
      "Overall chunk shape:  (150, 300)\n",
      "Working on chunk  0\n",
      "Working on chunk  1\n",
      "Working on chunk  2\n",
      "Overall chunk shape:  (150, 300)\n",
      "Working on chunk  0\n",
      "Working on chunk  1\n",
      "Working on chunk  2\n",
      "Overall chunk shape:  (150, 300)\n",
      "Image shape:  (150, 300, 3)\n"
     ]
    }
   ],
   "source": [
    "main()"
   ]
  },
  {
   "cell_type": "code",
   "execution_count": null,
   "metadata": {},
   "outputs": [],
   "source": []
  },
  {
   "cell_type": "code",
   "execution_count": null,
   "metadata": {},
   "outputs": [],
   "source": []
  }
 ],
 "metadata": {
  "kernelspec": {
   "display_name": "Python 3",
   "language": "python",
   "name": "python3"
  },
  "language_info": {
   "codemirror_mode": {
    "name": "ipython",
    "version": 3
   },
   "file_extension": ".py",
   "mimetype": "text/x-python",
   "name": "python",
   "nbconvert_exporter": "python",
   "pygments_lexer": "ipython3",
   "version": "3.6.5"
  }
 },
 "nbformat": 4,
 "nbformat_minor": 2
}
